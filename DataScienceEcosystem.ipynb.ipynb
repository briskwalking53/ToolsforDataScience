{
 "cells": [
  {
   "cell_type": "markdown",
   "id": "0d9df823-6998-4185-80ef-1b10199c30aa",
   "metadata": {},
   "source": [
    "# Data Science Tools and Ecosystem"
   ]
  },
  {
   "cell_type": "markdown",
   "id": "718ec5bf-6def-45af-9bf6-140a616721e9",
   "metadata": {},
   "source": [
    "In this notebook, Data Science and Tools are summarized."
   ]
  },
  {
   "cell_type": "markdown",
   "id": "3363fc05-e871-40cf-a21c-3d256b4ceb38",
   "metadata": {},
   "source": [
    "**Objectives**\n",
    "\n",
    "* Python\n",
    "* R\n",
    "* SQL"
   ]
  },
  {
   "cell_type": "markdown",
   "id": "3cbec4bb-9587-460e-b36f-23823b16f3e0",
   "metadata": {
    "tags": []
   },
   "source": [
    "Some of the popular languages that Data Scientists use are :\n",
    "    \n",
    "    (1) Python\n",
    "    (2) R\n",
    "    (3) SQL"
   ]
  },
  {
   "cell_type": "markdown",
   "id": "fdaee182-4736-42cd-aa3c-d013d935b538",
   "metadata": {},
   "source": [
    "Some of the commonly used libraries used by Data Scientests include :\n",
    "    \n",
    "    (1) Pandas\n",
    "    (2) Numpy\n",
    "    (3) TensorFlow"
   ]
  },
  {
   "cell_type": "markdown",
   "id": "7d49ec4a-5ce4-4c86-967b-17f6b69eebc5",
   "metadata": {},
   "source": [
    "| Data Science Tools |\n",
    "| ------------------- |\n",
    "| R |\n",
    "| Python |\n",
    "| Julia |"
   ]
  },
  {
   "cell_type": "markdown",
   "id": "706f332c-44be-406a-b973-ee5027cca2c8",
   "metadata": {},
   "source": [
    "### Below are a few examples of evaluating arithmetic expressions in Python"
   ]
  },
  {
   "cell_type": "code",
   "execution_count": 6,
   "id": "b435344f-7fd9-4b26-9d94-6de468bf4e3a",
   "metadata": {
    "tags": []
   },
   "outputs": [
    {
     "data": {
      "text/plain": [
       "17"
      ]
     },
     "execution_count": 6,
     "metadata": {},
     "output_type": "execute_result"
    }
   ],
   "source": [
    "#This a simples arithmetic expression to multiply then and integer\n",
    "\n",
    "(3*4)+5"
   ]
  },
  {
   "cell_type": "code",
   "execution_count": 7,
   "id": "a8bb96c8-c554-424f-82f2-019568a8163e",
   "metadata": {
    "tags": []
   },
   "outputs": [
    {
     "data": {
      "text/plain": [
       "3.3333333333333335"
      ]
     },
     "execution_count": 7,
     "metadata": {},
     "output_type": "execute_result"
    }
   ],
   "source": [
    "#This will convert 200 minutes to hours by diving 60\n",
    "\n",
    "200/60"
   ]
  },
  {
   "cell_type": "markdown",
   "id": "1aacf4d3-2f61-4947-99a5-9c330ae12fa3",
   "metadata": {},
   "source": [
    "## Author\n",
    "Takayuki Hayakawa"
   ]
  },
  {
   "cell_type": "code",
   "execution_count": null,
   "id": "12139b4e-26ea-412c-8dae-ace12bf10e4c",
   "metadata": {},
   "outputs": [],
   "source": []
  }
 ],
 "metadata": {
  "kernelspec": {
   "display_name": "Python",
   "language": "python",
   "name": "conda-env-python-py"
  },
  "language_info": {
   "codemirror_mode": {
    "name": "ipython",
    "version": 3
   },
   "file_extension": ".py",
   "mimetype": "text/x-python",
   "name": "python",
   "nbconvert_exporter": "python",
   "pygments_lexer": "ipython3",
   "version": "3.7.12"
  }
 },
 "nbformat": 4,
 "nbformat_minor": 5
}
